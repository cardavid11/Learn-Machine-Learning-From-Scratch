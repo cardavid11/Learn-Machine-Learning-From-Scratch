{
 "cells": [
  {
   "cell_type": "code",
   "execution_count": 3,
   "metadata": {},
   "outputs": [],
   "source": [
    "#import libraries\n",
    "import pandas as pd\n",
    "import xgboost as xgboost\n",
    "import numpy as np"
   ]
  },
  {
   "cell_type": "code",
   "execution_count": 4,
   "metadata": {},
   "outputs": [],
   "source": [
    "#import dataset\n",
    "dataset = pd.read_csv('./dataset/bank-full.csv',sep=';')"
   ]
  },
  {
   "cell_type": "code",
   "execution_count": 5,
   "metadata": {},
   "outputs": [
    {
     "data": {
      "text/html": [
       "<div>\n",
       "<style scoped>\n",
       "    .dataframe tbody tr th:only-of-type {\n",
       "        vertical-align: middle;\n",
       "    }\n",
       "\n",
       "    .dataframe tbody tr th {\n",
       "        vertical-align: top;\n",
       "    }\n",
       "\n",
       "    .dataframe thead th {\n",
       "        text-align: right;\n",
       "    }\n",
       "</style>\n",
       "<table border=\"1\" class=\"dataframe\">\n",
       "  <thead>\n",
       "    <tr style=\"text-align: right;\">\n",
       "      <th></th>\n",
       "      <th>age</th>\n",
       "      <th>job</th>\n",
       "      <th>marital</th>\n",
       "      <th>education</th>\n",
       "      <th>default</th>\n",
       "      <th>balance</th>\n",
       "      <th>housing</th>\n",
       "      <th>loan</th>\n",
       "      <th>contact</th>\n",
       "      <th>day</th>\n",
       "      <th>month</th>\n",
       "      <th>duration</th>\n",
       "      <th>campaign</th>\n",
       "      <th>pdays</th>\n",
       "      <th>previous</th>\n",
       "      <th>poutcome</th>\n",
       "      <th>y</th>\n",
       "    </tr>\n",
       "  </thead>\n",
       "  <tbody>\n",
       "    <tr>\n",
       "      <th>0</th>\n",
       "      <td>58</td>\n",
       "      <td>management</td>\n",
       "      <td>married</td>\n",
       "      <td>tertiary</td>\n",
       "      <td>no</td>\n",
       "      <td>2143</td>\n",
       "      <td>yes</td>\n",
       "      <td>no</td>\n",
       "      <td>unknown</td>\n",
       "      <td>5</td>\n",
       "      <td>may</td>\n",
       "      <td>261</td>\n",
       "      <td>1</td>\n",
       "      <td>-1</td>\n",
       "      <td>0</td>\n",
       "      <td>unknown</td>\n",
       "      <td>no</td>\n",
       "    </tr>\n",
       "    <tr>\n",
       "      <th>1</th>\n",
       "      <td>44</td>\n",
       "      <td>technician</td>\n",
       "      <td>single</td>\n",
       "      <td>secondary</td>\n",
       "      <td>no</td>\n",
       "      <td>29</td>\n",
       "      <td>yes</td>\n",
       "      <td>no</td>\n",
       "      <td>unknown</td>\n",
       "      <td>5</td>\n",
       "      <td>may</td>\n",
       "      <td>151</td>\n",
       "      <td>1</td>\n",
       "      <td>-1</td>\n",
       "      <td>0</td>\n",
       "      <td>unknown</td>\n",
       "      <td>no</td>\n",
       "    </tr>\n",
       "    <tr>\n",
       "      <th>2</th>\n",
       "      <td>33</td>\n",
       "      <td>entrepreneur</td>\n",
       "      <td>married</td>\n",
       "      <td>secondary</td>\n",
       "      <td>no</td>\n",
       "      <td>2</td>\n",
       "      <td>yes</td>\n",
       "      <td>yes</td>\n",
       "      <td>unknown</td>\n",
       "      <td>5</td>\n",
       "      <td>may</td>\n",
       "      <td>76</td>\n",
       "      <td>1</td>\n",
       "      <td>-1</td>\n",
       "      <td>0</td>\n",
       "      <td>unknown</td>\n",
       "      <td>no</td>\n",
       "    </tr>\n",
       "    <tr>\n",
       "      <th>3</th>\n",
       "      <td>47</td>\n",
       "      <td>blue-collar</td>\n",
       "      <td>married</td>\n",
       "      <td>unknown</td>\n",
       "      <td>no</td>\n",
       "      <td>1506</td>\n",
       "      <td>yes</td>\n",
       "      <td>no</td>\n",
       "      <td>unknown</td>\n",
       "      <td>5</td>\n",
       "      <td>may</td>\n",
       "      <td>92</td>\n",
       "      <td>1</td>\n",
       "      <td>-1</td>\n",
       "      <td>0</td>\n",
       "      <td>unknown</td>\n",
       "      <td>no</td>\n",
       "    </tr>\n",
       "    <tr>\n",
       "      <th>4</th>\n",
       "      <td>33</td>\n",
       "      <td>unknown</td>\n",
       "      <td>single</td>\n",
       "      <td>unknown</td>\n",
       "      <td>no</td>\n",
       "      <td>1</td>\n",
       "      <td>no</td>\n",
       "      <td>no</td>\n",
       "      <td>unknown</td>\n",
       "      <td>5</td>\n",
       "      <td>may</td>\n",
       "      <td>198</td>\n",
       "      <td>1</td>\n",
       "      <td>-1</td>\n",
       "      <td>0</td>\n",
       "      <td>unknown</td>\n",
       "      <td>no</td>\n",
       "    </tr>\n",
       "  </tbody>\n",
       "</table>\n",
       "</div>"
      ],
      "text/plain": [
       "   age           job  marital  education default  balance housing loan  \\\n",
       "0   58    management  married   tertiary      no     2143     yes   no   \n",
       "1   44    technician   single  secondary      no       29     yes   no   \n",
       "2   33  entrepreneur  married  secondary      no        2     yes  yes   \n",
       "3   47   blue-collar  married    unknown      no     1506     yes   no   \n",
       "4   33       unknown   single    unknown      no        1      no   no   \n",
       "\n",
       "   contact  day month  duration  campaign  pdays  previous poutcome   y  \n",
       "0  unknown    5   may       261         1     -1         0  unknown  no  \n",
       "1  unknown    5   may       151         1     -1         0  unknown  no  \n",
       "2  unknown    5   may        76         1     -1         0  unknown  no  \n",
       "3  unknown    5   may        92         1     -1         0  unknown  no  \n",
       "4  unknown    5   may       198         1     -1         0  unknown  no  "
      ]
     },
     "execution_count": 5,
     "metadata": {},
     "output_type": "execute_result"
    }
   ],
   "source": [
    "#dataset.describe()\n",
    "dataset.head()"
   ]
  },
  {
   "cell_type": "code",
   "execution_count": 6,
   "metadata": {},
   "outputs": [
    {
     "data": {
      "text/plain": [
       "age           int64\n",
       "job          object\n",
       "marital      object\n",
       "education    object\n",
       "default      object\n",
       "balance       int64\n",
       "housing      object\n",
       "loan         object\n",
       "contact      object\n",
       "day           int64\n",
       "month        object\n",
       "duration      int64\n",
       "campaign      int64\n",
       "pdays         int64\n",
       "previous      int64\n",
       "poutcome     object\n",
       "y            object\n",
       "dtype: object"
      ]
     },
     "execution_count": 6,
     "metadata": {},
     "output_type": "execute_result"
    }
   ],
   "source": [
    "dataset.dtypes"
   ]
  },
  {
   "cell_type": "code",
   "execution_count": 7,
   "metadata": {},
   "outputs": [],
   "source": [
    "#isolate the x and y variables\n",
    "y = dataset.iloc[:, -1].values\n",
    "X = dataset._get_numeric_data()\n"
   ]
  },
  {
   "cell_type": "code",
   "execution_count": 8,
   "metadata": {},
   "outputs": [],
   "source": [
    "#Split dataset into traininig and test set\n",
    "from sklearn.model_selection import train_test_split\n",
    "X_train, X_test, y_train, y_test = train_test_split(X,y,test_size=.2,random_state=1502)"
   ]
  },
  {
   "cell_type": "code",
   "execution_count": 9,
   "metadata": {},
   "outputs": [
    {
     "data": {
      "text/plain": [
       "0.12175163109587527"
      ]
     },
     "execution_count": 9,
     "metadata": {},
     "output_type": "execute_result"
    }
   ],
   "source": [
    "#Transform y factor variables\n",
    "y_train = np.where(y_train == 'yes', 1, 0)\n",
    "y_test = np.where(y_test == 'yes', 1, 0)\n",
    "np.mean(y_train) #11.5% is our baseline, we need to beat this\n",
    "np.mean(y_test) #12.17%"
   ]
  },
  {
   "cell_type": "code",
   "execution_count": 10,
   "metadata": {},
   "outputs": [],
   "source": [
    "#Create xgbosst matrices\n",
    "Train = xgboost.DMatrix(X_train, label = y_train)\n",
    "Test = xgboost.DMatrix(X_test, label = y_test)"
   ]
  },
  {
   "cell_type": "code",
   "execution_count": 11,
   "metadata": {},
   "outputs": [],
   "source": [
    "#Set parameters\n",
    "parameters1 = {\n",
    "    'learning_rate': 0.3,\n",
    "    'max_depth': 2,\n",
    "    'colsample_bytree': 1,\n",
    "    'subsample': 1,\n",
    "    'min_child_weight': 1,\n",
    "    'gamma': 0,\n",
    "    'random_state': 1502,\n",
    "    'eval_metric': 'auc', \n",
    "    'objective': 'binary:logistic'\n",
    "}"
   ]
  },
  {
   "cell_type": "code",
   "execution_count": 12,
   "metadata": {},
   "outputs": [
    {
     "name": "stdout",
     "output_type": "stream",
     "text": [
      "[0]\tTest-auc:0.75049\n",
      "[50]\tTest-auc:0.87633\n"
     ]
    },
    {
     "name": "stdout",
     "output_type": "stream",
     "text": [
      "[100]\tTest-auc:0.88087\n",
      "[150]\tTest-auc:0.88275\n",
      "[199]\tTest-auc:0.88375\n"
     ]
    }
   ],
   "source": [
    "#run XGBoost\n",
    "model = xgboost.train(params = parameters1, \n",
    "                      dtrain = Train, \n",
    "                      num_boost_round = 200,\n",
    "                      evals = [(Test, 'Test')],\n",
    "                      verbose_eval = 50\n",
    "                      )"
   ]
  },
  {
   "cell_type": "code",
   "execution_count": 13,
   "metadata": {},
   "outputs": [],
   "source": [
    "#Predictions \n",
    "predictions1 =  model.predict(Test)\n",
    "predictions1 = np.where(predictions1 > 0.5, 1, 0)"
   ]
  },
  {
   "cell_type": "code",
   "execution_count": 14,
   "metadata": {},
   "outputs": [
    {
     "name": "stdout",
     "output_type": "stream",
     "text": [
      "[[7690  252]\n",
      " [ 736  365]]\n",
      "              precision    recall  f1-score   support\n",
      "\n",
      "           0       0.91      0.97      0.94      7942\n",
      "           1       0.59      0.33      0.42      1101\n",
      "\n",
      "    accuracy                           0.89      9043\n",
      "   macro avg       0.75      0.65      0.68      9043\n",
      "weighted avg       0.87      0.89      0.88      9043\n",
      "\n"
     ]
    }
   ],
   "source": [
    "#Confusion matrix\n",
    "# see lesson 27 for more details\n",
    "from sklearn.metrics import confusion_matrix\n",
    "from sklearn.metrics import classification_report\n",
    "confusion_matrix1 = confusion_matrix(y_test, predictions1)\n",
    "print(confusion_matrix1)\n",
    "report1 = classification_report(y_test, predictions1)\n",
    "print(report1)"
   ]
  },
  {
   "cell_type": "code",
   "execution_count": 15,
   "metadata": {},
   "outputs": [],
   "source": [
    "#########################################################\n",
    "# Transforming categorical variables into dummy variables\n",
    "# Isolate the categorical variables\n",
    "dataset_categorical = dataset.select_dtypes(exclude = \"number\")\n",
    "\n",
    "# Transform categorical variables into dummy variables\n",
    "dataset_categorical = pd.get_dummies(dataset_categorical, drop_first = True)"
   ]
  },
  {
   "cell_type": "code",
   "execution_count": 16,
   "metadata": {},
   "outputs": [],
   "source": [
    "#joining numerical and categorical datasets\n",
    "final_dataset = pd.concat([X, dataset_categorical], axis = 1)"
   ]
  },
  {
   "cell_type": "code",
   "execution_count": 17,
   "metadata": {},
   "outputs": [],
   "source": [
    "#Getting names of columns\n",
    "feature_columns = list(final_dataset.columns.values)\n",
    "feature_columns = feature_columns[:-1]\n",
    "#########################################################"
   ]
  },
  {
   "cell_type": "code",
   "execution_count": 18,
   "metadata": {},
   "outputs": [],
   "source": [
    "#isolate the x and y variables Part 2\n",
    "y = final_dataset.iloc[:, -1].values\n",
    "X = final_dataset.iloc[:, :-1].values\n",
    "\n",
    "#Split dataset into traininig and test set\n",
    "X_train, X_test, y_train, y_test = train_test_split(X,y,test_size=.2,random_state=1502)"
   ]
  },
  {
   "cell_type": "code",
   "execution_count": 19,
   "metadata": {},
   "outputs": [],
   "source": [
    "#Create xgbosst matrices Part 2\n",
    "Train = xgboost.DMatrix(X_train, label = y_train, feature_names = feature_columns)\n",
    "Test = xgboost.DMatrix(X_test, label = y_test, feature_names = feature_columns)"
   ]
  },
  {
   "cell_type": "code",
   "execution_count": 20,
   "metadata": {},
   "outputs": [
    {
     "name": "stdout",
     "output_type": "stream",
     "text": [
      "[0]\tTest-auc:0.74351\n",
      "[50]\tTest-auc:0.91916\n",
      "[100]\tTest-auc:0.92513\n",
      "[150]\tTest-auc:0.92809\n",
      "[199]\tTest-auc:0.92905\n"
     ]
    }
   ],
   "source": [
    "#Set parameters Part 2\n",
    "parameters2 = {\n",
    "    'learning_rate': 0.3,\n",
    "    'max_depth': 2,\n",
    "    'colsample_bytree': 1,\n",
    "    'subsample': 1,\n",
    "    'min_child_weight': 1,\n",
    "    'gamma': 0,\n",
    "    'random_state': 1502,\n",
    "    'eval_metric': 'auc', \n",
    "    'objective': 'binary:logistic'\n",
    "}\n",
    "\n",
    "#run XGBoost Part 2\n",
    "model2 = xgboost.train(params = parameters2, \n",
    "                      dtrain = Train, \n",
    "                      num_boost_round = 200,\n",
    "                      evals = [(Test, 'Test')],\n",
    "                      verbose_eval = 50\n",
    "                      )"
   ]
  },
  {
   "cell_type": "code",
   "execution_count": 21,
   "metadata": {},
   "outputs": [],
   "source": [
    "#Predictions Part 2\n",
    "predictions2 =  model2.predict(Test)\n",
    "predictions2 = np.where(predictions2 > 0.5, 1, 0)"
   ]
  },
  {
   "cell_type": "code",
   "execution_count": 22,
   "metadata": {},
   "outputs": [
    {
     "name": "stdout",
     "output_type": "stream",
     "text": [
      "[[7676  266]\n",
      " [ 628  473]]\n"
     ]
    },
    {
     "name": "stdout",
     "output_type": "stream",
     "text": [
      "              precision    recall  f1-score   support\n",
      "\n",
      "       False       0.92      0.97      0.94      7942\n",
      "        True       0.64      0.43      0.51      1101\n",
      "\n",
      "    accuracy                           0.90      9043\n",
      "   macro avg       0.78      0.70      0.73      9043\n",
      "weighted avg       0.89      0.90      0.89      9043\n",
      "\n"
     ]
    }
   ],
   "source": [
    "#Confusion matrix\n",
    "# see lesson 27 for more details\n",
    "confusion_matrix2 = confusion_matrix(y_test, predictions2)\n",
    "print(confusion_matrix2)\n",
    "report2 = classification_report(y_test, predictions2)\n",
    "print(report2)"
   ]
  },
  {
   "cell_type": "code",
   "execution_count": 23,
   "metadata": {},
   "outputs": [],
   "source": [
    "#########################################################\n",
    "\n",
    "#Checking how many minicores we have\n",
    "import multiprocessing\n",
    "multiprocessing.cpu_count()\n",
    "\n",
    "#Setting the cross validation parameters\n",
    "from sklearn.model_selection import KFold\n",
    "tune_control = KFold(n_splits = 5, \n",
    "                     shuffle = True, \n",
    "                     random_state = 1502).split(X = X_train, \n",
    "                                                y = y_train)\n"
   ]
  },
  {
   "cell_type": "code",
   "execution_count": 24,
   "metadata": {},
   "outputs": [],
   "source": [
    "#Parameter tuning\n",
    "#Set parameters Part 3\n",
    "tune_grid = {\n",
    "    'learning_rate': [0.05, 0.3],\n",
    "    'max_depth': range(2,9,2),\n",
    "    'colsample_bytree': [0.05, 1],\n",
    "    'subsample': [1],\n",
    "    'min_child_weight': [1],\n",
    "    'gamma': [0],\n",
    "    'random_state': [1502],\n",
    "    \"n_estimators\": range(200, 2000, 200),\n",
    "    \"booster\": [\"gbtree\"],\n",
    "}"
   ]
  },
  {
   "cell_type": "code",
   "execution_count": 25,
   "metadata": {},
   "outputs": [],
   "source": [
    "#State that we are doing a classification problem\n",
    "from xgboost import XGBClassifier\n",
    "classifier = XGBClassifier(objective = \"binary:logistic\")"
   ]
  },
  {
   "cell_type": "code",
   "execution_count": 26,
   "metadata": {},
   "outputs": [],
   "source": [
    "#Cross Validation Assembly\n",
    "from sklearn.model_selection import GridSearchCV\n",
    "grid_search = GridSearchCV(estimator = classifier,\n",
    "                           param_grid = tune_grid,\n",
    "                           scoring = \"roc_auc\",\n",
    "                           cv = tune_control,\n",
    "                           n_jobs = 6,\n",
    "                           verbose = 5)"
   ]
  },
  {
   "cell_type": "code",
   "execution_count": 27,
   "metadata": {},
   "outputs": [],
   "source": [
    "#Setting evaluation parameters\n",
    "evaluation_parameters = {\n",
    "    \"early_stopping_rounds\": 100,\n",
    "    \"eval_metric\": \"auc\",\n",
    "    \"eval_set\": [(X_test, y_test)]\n",
    "}"
   ]
  },
  {
   "cell_type": "code",
   "execution_count": 28,
   "metadata": {},
   "outputs": [],
   "source": [
    "#Hyperparameter tuning and cross validation\n",
    "#I am not going to run this because I already know the results\n",
    "# tune_model = grid_search.fit(X = X_train, y = y_train, **evaluation_parameters)\n",
    "# grid_search.best_params_,grid_search.best_score_"
   ]
  },
  {
   "cell_type": "code",
   "execution_count": 29,
   "metadata": {},
   "outputs": [],
   "source": [
    "#########################################################\n",
    "#I am not going to run this because I already know the results\n",
    "\n",
    "# #Setting the cross validation parameters\n",
    "# from sklearn.model_selection import KFold\n",
    "# tune_control = KFold(n_splits = 5, \n",
    "#                      shuffle = True, \n",
    "#                      random_state = 1502).split(X = X_train, \n",
    "#                                                 y = y_train)\n",
    "\n",
    "# #Parameter tuning part 2\n",
    "\n",
    "# tune_grid2 = {\n",
    "#     'learning_rate': [0.05],\n",
    "#     'max_depth': [6],\n",
    "#     'colsample_bytree': [1],\n",
    "#     'subsample': [0.9, 1],\n",
    "#     'min_child_weight': range(1,5,1),\n",
    "#     'gamma': [0, 0.1],\n",
    "#     'random_state': [1502],\n",
    "#     \"n_estimators\": range(200, 2000, 200),\n",
    "#     \"booster\": [\"gbtree\"],\n",
    "# }\n",
    "\n",
    "# #Cross Validation Assembly\n",
    "# from sklearn.model_selection import GridSearchCV\n",
    "# grid_search2 = GridSearchCV(estimator = classifier,\n",
    "#                            param_grid = tune_grid2,\n",
    "#                            scoring = \"roc_auc\",\n",
    "#                            cv = tune_control,\n",
    "#                            n_jobs = 6,\n",
    "#                            verbose = 5)\n",
    "\n",
    "# #Hyperparameter tuning and cross validation\n",
    "# tune_model2 = grid_search2.fit(X = X_train, y = y_train, **evaluation_parameters)\n",
    "# grid_search2.best_params_,grid_search2.best_score_"
   ]
  },
  {
   "cell_type": "code",
   "execution_count": 30,
   "metadata": {},
   "outputs": [
    {
     "name": "stdout",
     "output_type": "stream",
     "text": [
      "[0]\tTest-auc:0.70534\n",
      "[50]\tTest-auc:0.92216\n",
      "[100]\tTest-auc:0.92861\n",
      "[150]\tTest-auc:0.93157\n",
      "[200]\tTest-auc:0.93228\n",
      "[250]\tTest-auc:0.93235\n",
      "[300]\tTest-auc:0.93278\n",
      "[350]\tTest-auc:0.93277\n",
      "[400]\tTest-auc:0.93285\n",
      "[450]\tTest-auc:0.93299\n",
      "[500]\tTest-auc:0.93305\n",
      "[550]\tTest-auc:0.93297\n",
      "[600]\tTest-auc:0.93283\n",
      "[650]\tTest-auc:0.93261\n",
      "[700]\tTest-auc:0.93246\n",
      "[750]\tTest-auc:0.93239\n",
      "[799]\tTest-auc:0.93231\n"
     ]
    }
   ],
   "source": [
    "#########################################################\n",
    "\n",
    "#Set parameters Part 3\n",
    "parameters3 = {\n",
    "    'learning_rate': 0.05,\n",
    "    'max_depth': 6,\n",
    "    'colsample_bytree': 0.5,\n",
    "    'subsample': 1,\n",
    "    'min_child_weight': 2,\n",
    "    'gamma': 0,\n",
    "    'random_state': 1502,\n",
    "    'eval_metric': 'auc', \n",
    "    'objective': 'binary:logistic'\n",
    "}\n",
    "\n",
    "#run XGBoost Part 3\n",
    "model3 = xgboost.train(params = parameters3, \n",
    "                      dtrain = Train, \n",
    "                      num_boost_round = 800,\n",
    "                      evals = [(Test, 'Test')],\n",
    "                      verbose_eval = 50\n",
    "                      )"
   ]
  },
  {
   "cell_type": "code",
   "execution_count": 31,
   "metadata": {},
   "outputs": [
    {
     "name": "stdout",
     "output_type": "stream",
     "text": [
      "[[7641  301]\n",
      " [ 583  518]]\n",
      "              precision    recall  f1-score   support\n",
      "\n",
      "       False       0.93      0.96      0.95      7942\n",
      "        True       0.63      0.47      0.54      1101\n",
      "\n",
      "    accuracy                           0.90      9043\n",
      "   macro avg       0.78      0.72      0.74      9043\n",
      "weighted avg       0.89      0.90      0.90      9043\n",
      "\n"
     ]
    }
   ],
   "source": [
    "#Predictions Part 3\n",
    "predictions3 =  model3.predict(Test)\n",
    "predictions3 = np.where(predictions3 > 0.5, 1, 0)\n",
    "#Confusion matrix\n",
    "# see lesson 27 for more details\n",
    "confusion_matrix3 = confusion_matrix(y_test, predictions3)\n",
    "print(confusion_matrix3)\n",
    "report3 = classification_report(y_test, predictions3)\n",
    "print(report3)\n",
    "\n",
    "predictions =  9041\n",
    "predictions_no = 7641 + 583\n",
    "predictions_yes = 301 + 518"
   ]
  },
  {
   "cell_type": "code",
   "execution_count": 32,
   "metadata": {},
   "outputs": [
    {
     "data": {
      "text/plain": [
       "<Axes: title={'center': 'Feature importance'}, xlabel='F score', ylabel='Features'>"
      ]
     },
     "execution_count": 32,
     "metadata": {},
     "output_type": "execute_result"
    },
    {
     "data": {
      "image/png": "[encoded data removed]",
      "text/plain": [
       "<Figure size 640x480 with 1 Axes>"
      ]
     },
     "metadata": {},
     "output_type": "display_data"
    }
   ],
   "source": [
    "#plot importance\n",
    "xgboost.plot_importance(model3,max_num_features=10)"
   ]
  },
  {
   "cell_type": "code",
   "execution_count": null,
   "metadata": {},
   "outputs": [],
   "source": []
  },
  {
   "cell_type": "code",
   "execution_count": null,
   "metadata": {},
   "outputs": [],
   "source": [
    "#Preparing Shap\n",
    "import shap\n",
    "explainer = shap.TreeExplainer(model3)\n",
    "shap_values = explainer.shap_values(X_test)\n",
    "shap.summary_plot(shap_values, X_test, feature_names=feature_columns, max_display=10)"
   ]
  }
 ],
 "metadata": {
  "kernelspec": {
   "display_name": "myenv",
   "language": "python",
   "name": "python3"
  },
  "language_info": {
   "codemirror_mode": {
    "name": "ipython",
    "version": 3
   },
   "file_extension": ".py",
   "mimetype": "text/x-python",
   "name": "python",
   "nbconvert_exporter": "python",
   "pygments_lexer": "ipython3",
   "version": "3.10.12"
  },
  "orig_nbformat": 4
 },
 "nbformat": 4,
 "nbformat_minor": 2
}
